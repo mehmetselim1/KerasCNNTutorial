{
  "metadata": {
    "kernelspec": {
      "language": "python",
      "display_name": "Python 3",
      "name": "python3"
    },
    "language_info": {
      "name": "python",
      "version": "3.10.13",
      "mimetype": "text/x-python",
      "codemirror_mode": {
        "name": "ipython",
        "version": 3
      },
      "pygments_lexer": "ipython3",
      "nbconvert_exporter": "python",
      "file_extension": ".py"
    },
    "kaggle": {
      "accelerator": "nvidiaTeslaT4",
      "dataSources": [],
      "dockerImageVersionId": 30747,
      "isInternetEnabled": true,
      "language": "python",
      "sourceType": "notebook",
      "isGpuEnabled": true
    },
    "colab": {
      "name": "deepLearningKerasTfTutorial",
      "provenance": [],
      "include_colab_link": true
    }
  },
  "nbformat_minor": 0,
  "nbformat": 4,
  "cells": [
    {
      "cell_type": "markdown",
      "metadata": {
        "id": "view-in-github",
        "colab_type": "text"
      },
      "source": [
        "<a href=\"https://colab.research.google.com/github/mehmetselim1/KerasCNNTutorial/blob/main/deepLearningKerasTfTutorial.ipynb\" target=\"_parent\"><img src=\"https://colab.research.google.com/assets/colab-badge.svg\" alt=\"Open In Colab\"/></a>"
      ]
    },
    {
      "cell_type": "code",
      "source": [
        "import tensorflow as tf\n",
        "from tensorflow.keras import datasets, layers, models\n",
        "import matplotlib.pyplot as plt\n",
        "import numpy as np"
      ],
      "metadata": {
        "_uuid": "8f2839f25d086af736a60e9eeb907d3b93b6e0e5",
        "_cell_guid": "b1076dfc-b9ad-4769-8c92-a6c4dae69d19",
        "trusted": true,
        "id": "EsgHRL5kwn6D"
      },
      "execution_count": null,
      "outputs": []
    },
    {
      "cell_type": "code",
      "source": [
        "(X_train, y_train), (X_test,y_test) = datasets.cifar10.load_data()\n",
        "X_train.shape"
      ],
      "metadata": {
        "execution": {
          "iopub.status.busy": "2024-07-16T13:27:24.561733Z",
          "iopub.execute_input": "2024-07-16T13:27:24.562252Z",
          "iopub.status.idle": "2024-07-16T13:27:29.174123Z",
          "shell.execute_reply.started": "2024-07-16T13:27:24.562225Z",
          "shell.execute_reply": "2024-07-16T13:27:29.173204Z"
        },
        "trusted": true,
        "id": "YtG7YqwHwn6E",
        "outputId": "de5ff9e7-dcf9-4e04-c2a2-d7960af752ea"
      },
      "execution_count": null,
      "outputs": [
        {
          "name": "stdout",
          "text": "Downloading data from https://www.cs.toronto.edu/~kriz/cifar-10-python.tar.gz\n\u001b[1m170498071/170498071\u001b[0m \u001b[32m━━━━━━━━━━━━━━━━━━━━\u001b[0m\u001b[37m\u001b[0m \u001b[1m2s\u001b[0m 0us/step\n",
          "output_type": "stream"
        },
        {
          "execution_count": 2,
          "output_type": "execute_result",
          "data": {
            "text/plain": "(50000, 32, 32, 3)"
          },
          "metadata": {}
        }
      ]
    },
    {
      "cell_type": "code",
      "source": [
        "X_test.shape"
      ],
      "metadata": {
        "execution": {
          "iopub.status.busy": "2024-07-16T13:27:29.178709Z",
          "iopub.execute_input": "2024-07-16T13:27:29.178973Z",
          "iopub.status.idle": "2024-07-16T13:27:29.184662Z",
          "shell.execute_reply.started": "2024-07-16T13:27:29.17895Z",
          "shell.execute_reply": "2024-07-16T13:27:29.183695Z"
        },
        "trusted": true,
        "id": "Dq08yxzhwn6E",
        "outputId": "9815a92d-a77a-45e0-e7eb-12b4c08d0e18"
      },
      "execution_count": null,
      "outputs": [
        {
          "execution_count": 3,
          "output_type": "execute_result",
          "data": {
            "text/plain": "(10000, 32, 32, 3)"
          },
          "metadata": {}
        }
      ]
    },
    {
      "cell_type": "code",
      "source": [
        "y_train.shape"
      ],
      "metadata": {
        "execution": {
          "iopub.status.busy": "2024-07-16T13:27:29.185883Z",
          "iopub.execute_input": "2024-07-16T13:27:29.186224Z",
          "iopub.status.idle": "2024-07-16T13:27:29.196573Z",
          "shell.execute_reply.started": "2024-07-16T13:27:29.186195Z",
          "shell.execute_reply": "2024-07-16T13:27:29.19554Z"
        },
        "trusted": true,
        "id": "5TqJUr7awn6E",
        "outputId": "eac5d632-9ddd-48ca-fbf4-03e99a16bc7a"
      },
      "execution_count": null,
      "outputs": [
        {
          "execution_count": 4,
          "output_type": "execute_result",
          "data": {
            "text/plain": "(50000, 1)"
          },
          "metadata": {}
        }
      ]
    },
    {
      "cell_type": "code",
      "source": [
        "y_train[:5]"
      ],
      "metadata": {
        "execution": {
          "iopub.status.busy": "2024-07-16T13:27:29.197822Z",
          "iopub.execute_input": "2024-07-16T13:27:29.198067Z",
          "iopub.status.idle": "2024-07-16T13:27:29.210832Z",
          "shell.execute_reply.started": "2024-07-16T13:27:29.198047Z",
          "shell.execute_reply": "2024-07-16T13:27:29.209907Z"
        },
        "trusted": true,
        "id": "iF2R5yEwwn6E",
        "outputId": "4dc6328b-95fb-4909-97a2-dc0e6f248400"
      },
      "execution_count": null,
      "outputs": [
        {
          "execution_count": 5,
          "output_type": "execute_result",
          "data": {
            "text/plain": "array([[6],\n       [9],\n       [9],\n       [4],\n       [1]], dtype=uint8)"
          },
          "metadata": {}
        }
      ]
    },
    {
      "cell_type": "code",
      "source": [
        "y_train = y_train.reshape(-1,)\n",
        "y_train[:5]"
      ],
      "metadata": {
        "execution": {
          "iopub.status.busy": "2024-07-16T13:27:29.21219Z",
          "iopub.execute_input": "2024-07-16T13:27:29.212623Z",
          "iopub.status.idle": "2024-07-16T13:27:29.222688Z",
          "shell.execute_reply.started": "2024-07-16T13:27:29.21259Z",
          "shell.execute_reply": "2024-07-16T13:27:29.221609Z"
        },
        "trusted": true,
        "id": "xoxX2Dh8wn6E",
        "outputId": "b87b53ad-1195-4438-87e7-975d0055a99c"
      },
      "execution_count": null,
      "outputs": [
        {
          "execution_count": 6,
          "output_type": "execute_result",
          "data": {
            "text/plain": "array([6, 9, 9, 4, 1], dtype=uint8)"
          },
          "metadata": {}
        }
      ]
    },
    {
      "cell_type": "code",
      "source": [
        "y_test = y_test.reshape(-1,)"
      ],
      "metadata": {
        "execution": {
          "iopub.status.busy": "2024-07-16T13:27:29.223937Z",
          "iopub.execute_input": "2024-07-16T13:27:29.224268Z",
          "iopub.status.idle": "2024-07-16T13:27:29.270057Z",
          "shell.execute_reply.started": "2024-07-16T13:27:29.22424Z",
          "shell.execute_reply": "2024-07-16T13:27:29.269206Z"
        },
        "trusted": true,
        "id": "VZ_7GFgYwn6E"
      },
      "execution_count": null,
      "outputs": []
    },
    {
      "cell_type": "code",
      "source": [
        "classes = [\"airplane\",\"automobile\",\"bird\",\"cat\",\"deer\",\"dog\",\"frog\",\"horse\",\"ship\",\"truck\"]\n"
      ],
      "metadata": {
        "execution": {
          "iopub.status.busy": "2024-07-16T13:27:29.271094Z",
          "iopub.execute_input": "2024-07-16T13:27:29.271464Z",
          "iopub.status.idle": "2024-07-16T13:27:29.280657Z",
          "shell.execute_reply.started": "2024-07-16T13:27:29.271441Z",
          "shell.execute_reply": "2024-07-16T13:27:29.279906Z"
        },
        "trusted": true,
        "id": "t-zt9TDAwn6F"
      },
      "execution_count": null,
      "outputs": []
    },
    {
      "cell_type": "code",
      "source": [
        "def plot_sample(X, y, index):\n",
        "    plt.figure(figsize = (15,2))\n",
        "    plt.imshow(X[index])\n",
        "    plt.xlabel(classes[y[index]])"
      ],
      "metadata": {
        "execution": {
          "iopub.status.busy": "2024-07-16T13:27:29.283861Z",
          "iopub.execute_input": "2024-07-16T13:27:29.284115Z",
          "iopub.status.idle": "2024-07-16T13:27:29.291675Z",
          "shell.execute_reply.started": "2024-07-16T13:27:29.284094Z",
          "shell.execute_reply": "2024-07-16T13:27:29.290736Z"
        },
        "trusted": true,
        "id": "-KwfPLc_wn6F"
      },
      "execution_count": null,
      "outputs": []
    },
    {
      "cell_type": "code",
      "source": [
        "plot_sample(X_train, y_train, 0)"
      ],
      "metadata": {
        "execution": {
          "iopub.status.busy": "2024-07-16T13:27:29.292793Z",
          "iopub.execute_input": "2024-07-16T13:27:29.293149Z",
          "iopub.status.idle": "2024-07-16T13:27:29.527897Z",
          "shell.execute_reply.started": "2024-07-16T13:27:29.293103Z",
          "shell.execute_reply": "2024-07-16T13:27:29.526824Z"
        },
        "trusted": true,
        "id": "W7-qiRM1wn6F",
        "outputId": "ca7db925-a477-42de-b601-3d98220eba76"
      },
      "execution_count": null,
      "outputs": [
        {
          "output_type": "display_data",
          "data": {
            "text/plain": "<Figure size 1500x200 with 1 Axes>",
            "image/png": "[encoded data removed]"
          },
          "metadata": {}
        }
      ]
    },
    {
      "cell_type": "code",
      "source": [
        "plot_sample(X_train, y_train, 1)"
      ],
      "metadata": {
        "execution": {
          "iopub.status.busy": "2024-07-16T13:27:29.529024Z",
          "iopub.execute_input": "2024-07-16T13:27:29.5294Z",
          "iopub.status.idle": "2024-07-16T13:27:29.730114Z",
          "shell.execute_reply.started": "2024-07-16T13:27:29.529367Z",
          "shell.execute_reply": "2024-07-16T13:27:29.729Z"
        },
        "trusted": true,
        "id": "Ytdd4wGXwn6F",
        "outputId": "f948b737-48df-4336-d712-c66eab1669a9"
      },
      "execution_count": null,
      "outputs": [
        {
          "output_type": "display_data",
          "data": {
            "text/plain": "<Figure size 1500x200 with 1 Axes>",
            "image/png": "[encoded data removed]"
          },
          "metadata": {}
        }
      ]
    },
    {
      "cell_type": "code",
      "source": [
        "X_train = X_train / 255.0\n",
        "X_test = X_test / 255.0"
      ],
      "metadata": {
        "execution": {
          "iopub.status.busy": "2024-07-16T13:27:29.731415Z",
          "iopub.execute_input": "2024-07-16T13:27:29.731771Z",
          "iopub.status.idle": "2024-07-16T13:27:30.225294Z",
          "shell.execute_reply.started": "2024-07-16T13:27:29.731739Z",
          "shell.execute_reply": "2024-07-16T13:27:30.224295Z"
        },
        "trusted": true,
        "id": "5xgSJ4IDwn6F"
      },
      "execution_count": null,
      "outputs": []
    },
    {
      "cell_type": "code",
      "source": [
        "ann = models.Sequential([\n",
        "        layers.Flatten(input_shape=(32,32,3)),\n",
        "        layers.Dense(3000, activation='relu'),\n",
        "        layers.Dense(1000, activation='relu'),\n",
        "        layers.Dense(10, activation='softmax')\n",
        "    ])\n",
        "\n",
        "ann.compile(optimizer='SGD',\n",
        "              loss='sparse_categorical_crossentropy',\n",
        "              metrics=['accuracy'])\n",
        "\n",
        "ann.fit(X_train, y_train, epochs=5)"
      ],
      "metadata": {
        "execution": {
          "iopub.status.busy": "2024-07-16T13:27:30.226576Z",
          "iopub.execute_input": "2024-07-16T13:27:30.226977Z",
          "iopub.status.idle": "2024-07-16T13:27:56.377686Z",
          "shell.execute_reply.started": "2024-07-16T13:27:30.226942Z",
          "shell.execute_reply": "2024-07-16T13:27:56.37665Z"
        },
        "trusted": true,
        "id": "2-fgDzvXwn6F",
        "outputId": "3db0c5c0-79e4-4151-901e-c98c6a7d015f"
      },
      "execution_count": null,
      "outputs": [
        {
          "name": "stderr",
          "text": "/opt/conda/lib/python3.10/site-packages/keras/src/layers/reshaping/flatten.py:37: UserWarning: Do not pass an `input_shape`/`input_dim` argument to a layer. When using Sequential models, prefer using an `Input(shape)` object as the first layer in the model instead.\n  super().__init__(**kwargs)\n",
          "output_type": "stream"
        },
        {
          "name": "stdout",
          "text": "Epoch 1/5\n\u001b[1m  56/1563\u001b[0m \u001b[37m━━━━━━━━━━━━━━━━━━━━\u001b[0m \u001b[1m4s\u001b[0m 3ms/step - accuracy: 0.1674 - loss: 2.2739",
          "output_type": "stream"
        },
        {
          "name": "stderr",
          "text": "WARNING: All log messages before absl::InitializeLog() is called are written to STDERR\nI0000 00:00:1721136455.177561     105 device_compiler.h:186] Compiled cluster using XLA!  This line is logged at most once for the lifetime of the process.\nW0000 00:00:1721136455.194868     105 graph_launch.cc:671] Fallback to op-by-op mode because memset node breaks graph update\n",
          "output_type": "stream"
        },
        {
          "name": "stdout",
          "text": "\u001b[1m1563/1563\u001b[0m \u001b[32m━━━━━━━━━━━━━━━━━━━━\u001b[0m\u001b[37m\u001b[0m \u001b[1m7s\u001b[0m 3ms/step - accuracy: 0.3018 - loss: 1.9357\nEpoch 2/5\n\u001b[1m1563/1563\u001b[0m \u001b[32m━━━━━━━━━━━━━━━━━━━━\u001b[0m\u001b[37m\u001b[0m \u001b[1m4s\u001b[0m 3ms/step - accuracy: 0.4208 - loss: 1.6456\nEpoch 3/5\n\u001b[1m1563/1563\u001b[0m \u001b[32m━━━━━━━━━━━━━━━━━━━━\u001b[0m\u001b[37m\u001b[0m \u001b[1m4s\u001b[0m 3ms/step - accuracy: 0.4495 - loss: 1.5557\nEpoch 4/5\n\u001b[1m1563/1563\u001b[0m \u001b[32m━━━━━━━━━━━━━━━━━━━━\u001b[0m\u001b[37m\u001b[0m \u001b[1m4s\u001b[0m 3ms/step - accuracy: 0.4777 - loss: 1.4857\nEpoch 5/5\n\u001b[1m1563/1563\u001b[0m \u001b[32m━━━━━━━━━━━━━━━━━━━━\u001b[0m\u001b[37m\u001b[0m \u001b[1m4s\u001b[0m 3ms/step - accuracy: 0.4976 - loss: 1.4357\n",
          "output_type": "stream"
        },
        {
          "execution_count": 13,
          "output_type": "execute_result",
          "data": {
            "text/plain": "<keras.src.callbacks.history.History at 0x7cab2552b820>"
          },
          "metadata": {}
        }
      ]
    },
    {
      "cell_type": "code",
      "source": [
        "from sklearn.metrics import confusion_matrix , classification_report\n",
        "import numpy as np\n",
        "y_pred = ann.predict(X_test)\n",
        "y_pred_classes = [np.argmax(element) for element in y_pred]\n",
        "\n",
        "print(\"Classification Report: \\n\", classification_report(y_test, y_pred_classes))\n"
      ],
      "metadata": {
        "execution": {
          "iopub.status.busy": "2024-07-16T13:27:56.378826Z",
          "iopub.execute_input": "2024-07-16T13:27:56.379109Z",
          "iopub.status.idle": "2024-07-16T13:27:58.57149Z",
          "shell.execute_reply.started": "2024-07-16T13:27:56.379085Z",
          "shell.execute_reply": "2024-07-16T13:27:58.570465Z"
        },
        "trusted": true,
        "id": "LwXWSIBxwn6F",
        "outputId": "a425f9a3-400f-4897-ce41-ce2d967cd11e"
      },
      "execution_count": null,
      "outputs": [
        {
          "name": "stdout",
          "text": "\u001b[1m108/313\u001b[0m \u001b[32m━━━━━━\u001b[0m\u001b[37m━━━━━━━━━━━━━━\u001b[0m \u001b[1m0s\u001b[0m 1ms/step",
          "output_type": "stream"
        },
        {
          "name": "stderr",
          "text": "W0000 00:00:1721136477.696616     108 graph_launch.cc:671] Fallback to op-by-op mode because memset node breaks graph update\n",
          "output_type": "stream"
        },
        {
          "name": "stdout",
          "text": "\u001b[1m313/313\u001b[0m \u001b[32m━━━━━━━━━━━━━━━━━━━━\u001b[0m\u001b[37m\u001b[0m \u001b[1m1s\u001b[0m 2ms/step\nClassification Report: \n               precision    recall  f1-score   support\n\n           0       0.40      0.73      0.52      1000\n           1       0.42      0.81      0.55      1000\n           2       0.42      0.32      0.36      1000\n           3       0.30      0.51      0.38      1000\n           4       0.52      0.27      0.36      1000\n           5       0.45      0.24      0.31      1000\n           6       0.64      0.35      0.45      1000\n           7       0.57      0.53      0.55      1000\n           8       0.68      0.48      0.56      1000\n           9       0.62      0.32      0.43      1000\n\n    accuracy                           0.46     10000\n   macro avg       0.50      0.46      0.45     10000\nweighted avg       0.50      0.46      0.45     10000\n\n",
          "output_type": "stream"
        }
      ]
    },
    {
      "cell_type": "code",
      "source": [
        "cnn = models.Sequential([\n",
        "    layers.Conv2D(filters=32, kernel_size=(3, 3), activation='relu', input_shape=(32, 32, 3)),\n",
        "    layers.MaxPooling2D((2, 2)),\n",
        "\n",
        "    layers.Conv2D(filters=64, kernel_size=(3, 3), activation='relu'),\n",
        "    layers.MaxPooling2D((2, 2)),\n",
        "\n",
        "    layers.Flatten(),\n",
        "    layers.Dense(64, activation='relu'),\n",
        "    layers.Dense(10, activation='softmax')\n",
        "])"
      ],
      "metadata": {
        "execution": {
          "iopub.status.busy": "2024-07-16T13:27:58.572905Z",
          "iopub.execute_input": "2024-07-16T13:27:58.5733Z",
          "iopub.status.idle": "2024-07-16T13:27:58.626011Z",
          "shell.execute_reply.started": "2024-07-16T13:27:58.573266Z",
          "shell.execute_reply": "2024-07-16T13:27:58.625129Z"
        },
        "trusted": true,
        "id": "O2mnchYHwn6F",
        "outputId": "29c76093-82b5-4dad-8f11-4841016e1983"
      },
      "execution_count": null,
      "outputs": [
        {
          "name": "stderr",
          "text": "/opt/conda/lib/python3.10/site-packages/keras/src/layers/convolutional/base_conv.py:107: UserWarning: Do not pass an `input_shape`/`input_dim` argument to a layer. When using Sequential models, prefer using an `Input(shape)` object as the first layer in the model instead.\n  super().__init__(activity_regularizer=activity_regularizer, **kwargs)\n",
          "output_type": "stream"
        }
      ]
    },
    {
      "cell_type": "code",
      "source": [
        "cnn.compile(optimizer='adam',\n",
        "              loss='sparse_categorical_crossentropy',\n",
        "              metrics=['accuracy'])\n"
      ],
      "metadata": {
        "execution": {
          "iopub.status.busy": "2024-07-16T13:27:58.627045Z",
          "iopub.execute_input": "2024-07-16T13:27:58.627312Z",
          "iopub.status.idle": "2024-07-16T13:27:59.457824Z",
          "shell.execute_reply.started": "2024-07-16T13:27:58.62729Z",
          "shell.execute_reply": "2024-07-16T13:27:59.456875Z"
        },
        "trusted": true,
        "id": "N-PB4LwIwn6F"
      },
      "execution_count": null,
      "outputs": []
    },
    {
      "cell_type": "code",
      "source": [
        "cnn.fit(X_train, y_train, epochs = 10)"
      ],
      "metadata": {
        "execution": {
          "iopub.status.busy": "2024-07-16T13:27:59.459005Z",
          "iopub.execute_input": "2024-07-16T13:27:59.459405Z",
          "iopub.status.idle": "2024-07-16T13:28:41.589091Z",
          "shell.execute_reply.started": "2024-07-16T13:27:59.45938Z",
          "shell.execute_reply": "2024-07-16T13:28:41.588182Z"
        },
        "trusted": true,
        "id": "S5NoOeFzwn6F",
        "outputId": "3cdb3677-b4ba-4f96-e088-da1f8943e657"
      },
      "execution_count": null,
      "outputs": [
        {
          "name": "stdout",
          "text": "Epoch 1/10\n\u001b[1m1563/1563\u001b[0m \u001b[32m━━━━━━━━━━━━━━━━━━━━\u001b[0m\u001b[37m\u001b[0m \u001b[1m9s\u001b[0m 3ms/step - accuracy: 0.3850 - loss: 1.6865\nEpoch 2/10\n\u001b[1m  80/1563\u001b[0m \u001b[32m━\u001b[0m\u001b[37m━━━━━━━━━━━━━━━━━━━\u001b[0m \u001b[1m2s\u001b[0m 2ms/step - accuracy: 0.5763 - loss: 1.1697",
          "output_type": "stream"
        },
        {
          "name": "stderr",
          "text": "W0000 00:00:1721136490.100250     106 graph_launch.cc:671] Fallback to op-by-op mode because memset node breaks graph update\n",
          "output_type": "stream"
        },
        {
          "name": "stdout",
          "text": "\u001b[1m1563/1563\u001b[0m \u001b[32m━━━━━━━━━━━━━━━━━━━━\u001b[0m\u001b[37m\u001b[0m \u001b[1m3s\u001b[0m 2ms/step - accuracy: 0.5996 - loss: 1.1376\nEpoch 3/10\n\u001b[1m1563/1563\u001b[0m \u001b[32m━━━━━━━━━━━━━━━━━━━━\u001b[0m\u001b[37m\u001b[0m \u001b[1m3s\u001b[0m 2ms/step - accuracy: 0.6545 - loss: 0.9966\nEpoch 4/10\n\u001b[1m1563/1563\u001b[0m \u001b[32m━━━━━━━━━━━━━━━━━━━━\u001b[0m\u001b[37m\u001b[0m \u001b[1m4s\u001b[0m 2ms/step - accuracy: 0.6873 - loss: 0.9013\nEpoch 5/10\n\u001b[1m1563/1563\u001b[0m \u001b[32m━━━━━━━━━━━━━━━━━━━━\u001b[0m\u001b[37m\u001b[0m \u001b[1m4s\u001b[0m 2ms/step - accuracy: 0.7109 - loss: 0.8270\nEpoch 6/10\n\u001b[1m1563/1563\u001b[0m \u001b[32m━━━━━━━━━━━━━━━━━━━━\u001b[0m\u001b[37m\u001b[0m \u001b[1m4s\u001b[0m 2ms/step - accuracy: 0.7314 - loss: 0.7800\nEpoch 7/10\n\u001b[1m1563/1563\u001b[0m \u001b[32m━━━━━━━━━━━━━━━━━━━━\u001b[0m\u001b[37m\u001b[0m \u001b[1m4s\u001b[0m 2ms/step - accuracy: 0.7542 - loss: 0.7167\nEpoch 8/10\n\u001b[1m1563/1563\u001b[0m \u001b[32m━━━━━━━━━━━━━━━━━━━━\u001b[0m\u001b[37m\u001b[0m \u001b[1m4s\u001b[0m 2ms/step - accuracy: 0.7623 - loss: 0.6776\nEpoch 9/10\n\u001b[1m1563/1563\u001b[0m \u001b[32m━━━━━━━━━━━━━━━━━━━━\u001b[0m\u001b[37m\u001b[0m \u001b[1m4s\u001b[0m 2ms/step - accuracy: 0.7764 - loss: 0.6437\nEpoch 10/10\n\u001b[1m1563/1563\u001b[0m \u001b[32m━━━━━━━━━━━━━━━━━━━━\u001b[0m\u001b[37m\u001b[0m \u001b[1m4s\u001b[0m 2ms/step - accuracy: 0.7898 - loss: 0.6010\n",
          "output_type": "stream"
        },
        {
          "execution_count": 17,
          "output_type": "execute_result",
          "data": {
            "text/plain": "<keras.src.callbacks.history.History at 0x7caa3cf1fd60>"
          },
          "metadata": {}
        }
      ]
    },
    {
      "cell_type": "code",
      "source": [
        "cnn.evaluate(X_test, y_test)"
      ],
      "metadata": {
        "execution": {
          "iopub.status.busy": "2024-07-16T13:28:41.590541Z",
          "iopub.execute_input": "2024-07-16T13:28:41.591131Z",
          "iopub.status.idle": "2024-07-16T13:28:43.656088Z",
          "shell.execute_reply.started": "2024-07-16T13:28:41.591098Z",
          "shell.execute_reply": "2024-07-16T13:28:43.654996Z"
        },
        "trusted": true,
        "id": "qKbhBETnwn6F",
        "outputId": "d418bcc2-b093-434c-f1aa-a28793dd5337"
      },
      "execution_count": null,
      "outputs": [
        {
          "name": "stdout",
          "text": "\u001b[1m313/313\u001b[0m \u001b[32m━━━━━━━━━━━━━━━━━━━━\u001b[0m\u001b[37m\u001b[0m \u001b[1m2s\u001b[0m 3ms/step - accuracy: 0.6793 - loss: 0.9680\n",
          "output_type": "stream"
        },
        {
          "name": "stderr",
          "text": "W0000 00:00:1721136523.630434     108 graph_launch.cc:671] Fallback to op-by-op mode because memset node breaks graph update\n",
          "output_type": "stream"
        },
        {
          "execution_count": 18,
          "output_type": "execute_result",
          "data": {
            "text/plain": "[0.9691672921180725, 0.6848999857902527]"
          },
          "metadata": {}
        }
      ]
    },
    {
      "cell_type": "code",
      "source": [
        "y_pred = cnn.predict(X_test)\n",
        "y_pred[:5]"
      ],
      "metadata": {
        "execution": {
          "iopub.status.busy": "2024-07-16T13:28:43.657698Z",
          "iopub.execute_input": "2024-07-16T13:28:43.658202Z",
          "iopub.status.idle": "2024-07-16T13:28:45.239358Z",
          "shell.execute_reply.started": "2024-07-16T13:28:43.658146Z",
          "shell.execute_reply": "2024-07-16T13:28:45.238443Z"
        },
        "trusted": true,
        "id": "BdsG7MNDwn6F",
        "outputId": "e2906480-4c77-41d5-938c-5b9441c90f07"
      },
      "execution_count": null,
      "outputs": [
        {
          "name": "stdout",
          "text": "\u001b[1m313/313\u001b[0m \u001b[32m━━━━━━━━━━━━━━━━━━━━\u001b[0m\u001b[37m\u001b[0m \u001b[1m1s\u001b[0m 2ms/step\n",
          "output_type": "stream"
        },
        {
          "name": "stderr",
          "text": "W0000 00:00:1721136525.112284     106 graph_launch.cc:671] Fallback to op-by-op mode because memset node breaks graph update\n",
          "output_type": "stream"
        },
        {
          "execution_count": 19,
          "output_type": "execute_result",
          "data": {
            "text/plain": "array([[1.45073805e-04, 2.28132587e-04, 2.13878302e-04, 2.28937820e-01,\n        1.20148610e-03, 7.56442547e-01, 2.84198963e-04, 3.53348267e-04,\n        1.17792711e-02, 4.14288603e-04],\n       [1.18062962e-02, 3.08873761e-03, 1.56004207e-05, 2.58531827e-06,\n        6.73700015e-07, 8.20860091e-09, 3.26665273e-08, 8.67027172e-10,\n        9.85060632e-01, 2.53203143e-05],\n       [1.11067191e-01, 3.90736222e-01, 4.99415211e-03, 2.16225851e-02,\n        5.04795928e-03, 3.01413634e-03, 3.34434677e-03, 4.43820702e-03,\n        4.37497377e-01, 1.82377826e-02],\n       [8.32140744e-01, 1.13111734e-02, 2.77219992e-02, 2.04229425e-03,\n        3.89252510e-03, 1.33149342e-05, 6.15589495e-04, 6.59372199e-06,\n        1.22237444e-01, 1.82524946e-05],\n       [4.83014901e-07, 2.59414423e-06, 3.34925880e-03, 2.12778635e-02,\n        1.01822361e-01, 3.16885277e-03, 8.70283961e-01, 5.68746236e-06,\n        8.87861752e-05, 7.53869571e-08]], dtype=float32)"
          },
          "metadata": {}
        }
      ]
    },
    {
      "cell_type": "code",
      "source": [
        "y_classes = [np.argmax(element) for element in y_pred]\n",
        "y_classes[:5]"
      ],
      "metadata": {
        "execution": {
          "iopub.status.busy": "2024-07-16T13:28:45.240507Z",
          "iopub.execute_input": "2024-07-16T13:28:45.240816Z",
          "iopub.status.idle": "2024-07-16T13:28:45.282692Z",
          "shell.execute_reply.started": "2024-07-16T13:28:45.240791Z",
          "shell.execute_reply": "2024-07-16T13:28:45.281832Z"
        },
        "trusted": true,
        "id": "7OXCLmirwn6F",
        "outputId": "cab8f37d-2634-49a4-ffa1-ed69fc6bf3cb"
      },
      "execution_count": null,
      "outputs": [
        {
          "execution_count": 20,
          "output_type": "execute_result",
          "data": {
            "text/plain": "[5, 8, 8, 0, 6]"
          },
          "metadata": {}
        }
      ]
    },
    {
      "cell_type": "code",
      "source": [
        "y_test[:5]"
      ],
      "metadata": {
        "execution": {
          "iopub.status.busy": "2024-07-16T13:28:45.283864Z",
          "iopub.execute_input": "2024-07-16T13:28:45.284147Z",
          "iopub.status.idle": "2024-07-16T13:28:45.291304Z",
          "shell.execute_reply.started": "2024-07-16T13:28:45.284123Z",
          "shell.execute_reply": "2024-07-16T13:28:45.290381Z"
        },
        "trusted": true,
        "id": "vyLJdQSUwn6F",
        "outputId": "d1648a5f-90dc-4321-c8b6-cf8430710687"
      },
      "execution_count": null,
      "outputs": [
        {
          "execution_count": 21,
          "output_type": "execute_result",
          "data": {
            "text/plain": "array([3, 8, 8, 0, 6], dtype=uint8)"
          },
          "metadata": {}
        }
      ]
    },
    {
      "cell_type": "code",
      "source": [
        "plot_sample(X_test, y_test,2351)"
      ],
      "metadata": {
        "execution": {
          "iopub.status.busy": "2024-07-16T13:29:42.379095Z",
          "iopub.execute_input": "2024-07-16T13:29:42.379721Z",
          "iopub.status.idle": "2024-07-16T13:29:42.590596Z",
          "shell.execute_reply.started": "2024-07-16T13:29:42.379689Z",
          "shell.execute_reply": "2024-07-16T13:29:42.5895Z"
        },
        "trusted": true,
        "id": "Xyyn01ZEwn6G",
        "outputId": "2eb4bce2-448a-4953-85e5-f7bb04c203fe"
      },
      "execution_count": null,
      "outputs": [
        {
          "output_type": "display_data",
          "data": {
            "text/plain": "<Figure size 1500x200 with 1 Axes>",
            "image/png": "[encoded data removed]"
          },
          "metadata": {}
        }
      ]
    },
    {
      "cell_type": "code",
      "source": [
        "classes[y_classes[2351]]"
      ],
      "metadata": {
        "execution": {
          "iopub.status.busy": "2024-07-16T13:29:45.165801Z",
          "iopub.execute_input": "2024-07-16T13:29:45.166173Z",
          "iopub.status.idle": "2024-07-16T13:29:45.172382Z",
          "shell.execute_reply.started": "2024-07-16T13:29:45.166128Z",
          "shell.execute_reply": "2024-07-16T13:29:45.171398Z"
        },
        "trusted": true,
        "id": "q4Am_e1Lwn6G",
        "outputId": "55562724-6ef6-4aca-9913-96907808a5de"
      },
      "execution_count": null,
      "outputs": [
        {
          "execution_count": 31,
          "output_type": "execute_result",
          "data": {
            "text/plain": "'truck'"
          },
          "metadata": {}
        }
      ]
    },
    {
      "cell_type": "code",
      "source": [
        "classes[y_classes[3]]"
      ],
      "metadata": {
        "execution": {
          "iopub.status.busy": "2024-07-16T13:28:45.50629Z",
          "iopub.execute_input": "2024-07-16T13:28:45.506605Z",
          "iopub.status.idle": "2024-07-16T13:28:45.517725Z",
          "shell.execute_reply.started": "2024-07-16T13:28:45.506575Z",
          "shell.execute_reply": "2024-07-16T13:28:45.516813Z"
        },
        "trusted": true,
        "id": "zI_l-UPswn6G",
        "outputId": "d671a422-8787-4c5b-f6d2-18b4bae998c2"
      },
      "execution_count": null,
      "outputs": [
        {
          "execution_count": 24,
          "output_type": "execute_result",
          "data": {
            "text/plain": "'airplane'"
          },
          "metadata": {}
        }
      ]
    }
  ]
}